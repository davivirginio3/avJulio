{
 "cells": [
  {
   "cell_type": "code",
   "execution_count": 3,
   "id": "8fe6bab4-6a45-43bd-a888-e4b353a14d57",
   "metadata": {},
   "outputs": [
    {
     "name": "stdout",
     "output_type": "stream",
     "text": [
      "O valor de uso da região: 70\n",
      "O valor de uso da região: 70\n",
      "O valor de uso da região: 70\n",
      "O valor de uso da região: 70\n"
     ]
    }
   ],
   "source": [
    "uso_cpu = [\n",
    "[20, 25, 40, 50, 45, 60, 55, 35, 70, 65],\n",
    "[30, 35, 50, 60, 40, 55, 60, 45, 50, 55],\n",
    "[15, 20, 30, 25, 35, 40, 45, 50, 55, 60],\n",
    "[10, 15, 25, 35, 45, 50, 55, 60, 65, 70],\n",
    "]\n",
    "\n",
    "def uso_maximo(regiao):\n",
    "  return max(regiao)\n",
    "\n",
    "for i in range(len(uso_cpu)):\n",
    "  valor_maximo = uso_maximo(uso_cpu[i])\n",
    "  print(f'O valor de uso da região: {valor_maximo}')"
   ]
  },
  {
   "cell_type": "code",
   "execution_count": 4,
   "id": "470d4ae0-f56c-478f-ae52-92d5f731b369",
   "metadata": {},
   "outputs": [
    {
     "name": "stdout",
     "output_type": "stream",
     "text": [
      "Na região, 5 valores estão acima da média.\n",
      "Na região, 6 valores estão acima da média.\n",
      "Na região, 5 valores estão acima da média.\n",
      "Na região, 6 valores estão acima da média.\n"
     ]
    }
   ],
   "source": [
    "\n",
    "def acima_da_media(regiao):\n",
    "  media = sum(regiao) / len(regiao)\n",
    "  maior = 0\n",
    "  for valor in regiao:\n",
    "    if valor > media:\n",
    "      maior += 1\n",
    "  return maior\n",
    "\n",
    "for i in range(len(uso_cpu)):\n",
    "  valores_acima = acima_da_media(uso_cpu[i])\n",
    "  print (f'Na região, {valores_acima} valores estão acima da média.')"
   ]
  },
  {
   "cell_type": "code",
   "execution_count": 5,
   "id": "10146bd3-96fd-4050-91d3-e73e0cfc1627",
   "metadata": {},
   "outputs": [
    {
     "data": {
      "text/html": [
       "<div>\n",
       "<style scoped>\n",
       "    .dataframe tbody tr th:only-of-type {\n",
       "        vertical-align: middle;\n",
       "    }\n",
       "\n",
       "    .dataframe tbody tr th {\n",
       "        vertical-align: top;\n",
       "    }\n",
       "\n",
       "    .dataframe thead th {\n",
       "        text-align: right;\n",
       "    }\n",
       "</style>\n",
       "<table border=\"1\" class=\"dataframe\">\n",
       "  <thead>\n",
       "    <tr style=\"text-align: right;\">\n",
       "      <th></th>\n",
       "      <th>hora_1</th>\n",
       "      <th>hora_2</th>\n",
       "      <th>hora_3</th>\n",
       "      <th>hora_4</th>\n",
       "      <th>hora_5</th>\n",
       "      <th>hora_6</th>\n",
       "      <th>hora_7</th>\n",
       "      <th>hora_8</th>\n",
       "      <th>hora_9</th>\n",
       "      <th>hora_10</th>\n",
       "      <th>uso_médio</th>\n",
       "    </tr>\n",
       "  </thead>\n",
       "  <tbody>\n",
       "    <tr>\n",
       "      <th>us-east-1</th>\n",
       "      <td>20</td>\n",
       "      <td>25</td>\n",
       "      <td>40</td>\n",
       "      <td>50</td>\n",
       "      <td>45</td>\n",
       "      <td>60</td>\n",
       "      <td>55</td>\n",
       "      <td>35</td>\n",
       "      <td>70</td>\n",
       "      <td>65</td>\n",
       "      <td>46.5</td>\n",
       "    </tr>\n",
       "    <tr>\n",
       "      <th>us-west-2</th>\n",
       "      <td>30</td>\n",
       "      <td>35</td>\n",
       "      <td>50</td>\n",
       "      <td>60</td>\n",
       "      <td>40</td>\n",
       "      <td>55</td>\n",
       "      <td>60</td>\n",
       "      <td>45</td>\n",
       "      <td>50</td>\n",
       "      <td>55</td>\n",
       "      <td>48.0</td>\n",
       "    </tr>\n",
       "    <tr>\n",
       "      <th>eu-central-1</th>\n",
       "      <td>15</td>\n",
       "      <td>20</td>\n",
       "      <td>30</td>\n",
       "      <td>25</td>\n",
       "      <td>35</td>\n",
       "      <td>40</td>\n",
       "      <td>45</td>\n",
       "      <td>50</td>\n",
       "      <td>55</td>\n",
       "      <td>60</td>\n",
       "      <td>37.5</td>\n",
       "    </tr>\n",
       "    <tr>\n",
       "      <th>sa-east-1</th>\n",
       "      <td>10</td>\n",
       "      <td>15</td>\n",
       "      <td>25</td>\n",
       "      <td>35</td>\n",
       "      <td>45</td>\n",
       "      <td>50</td>\n",
       "      <td>55</td>\n",
       "      <td>60</td>\n",
       "      <td>65</td>\n",
       "      <td>70</td>\n",
       "      <td>43.0</td>\n",
       "    </tr>\n",
       "  </tbody>\n",
       "</table>\n",
       "</div>"
      ],
      "text/plain": [
       "              hora_1  hora_2  hora_3  hora_4  hora_5  hora_6  hora_7  hora_8  \\\n",
       "us-east-1         20      25      40      50      45      60      55      35   \n",
       "us-west-2         30      35      50      60      40      55      60      45   \n",
       "eu-central-1      15      20      30      25      35      40      45      50   \n",
       "sa-east-1         10      15      25      35      45      50      55      60   \n",
       "\n",
       "              hora_9  hora_10  uso_médio  \n",
       "us-east-1         70       65       46.5  \n",
       "us-west-2         50       55       48.0  \n",
       "eu-central-1      55       60       37.5  \n",
       "sa-east-1         65       70       43.0  "
      ]
     },
     "execution_count": 5,
     "metadata": {},
     "output_type": "execute_result"
    }
   ],
   "source": [
    "import pandas as pd\n",
    "\n",
    "uso_cpu = [\n",
    "[20, 25, 40, 50, 45, 60, 55, 35, 70, 65],\n",
    "[30, 35, 50, 60, 40, 55, 60, 45, 50, 55],\n",
    "[15, 20, 30, 25, 35, 40, 45, 50, 55, 60],\n",
    "[10, 15, 25, 35, 45, 50, 55, 60, 65, 70],\n",
    "]\n",
    "\n",
    "regioes = [\"us-east-1\", \"us-west-2\", \"eu-central-1\", \"sa-east-1\"]\n",
    "colunas = [f\"hora_{i}\" for i in range(1, 11)]\n",
    "\n",
    "df = pd.DataFrame(uso_cpu, index=regioes, columns=colunas)\n",
    "\n",
    "df[\"uso_médio\"] = df.mean(axis=1)\n",
    "\n",
    "df\n"
   ]
  }
 ],
 "metadata": {
  "kernelspec": {
   "display_name": "Python 3 (ipykernel)",
   "language": "python",
   "name": "python3"
  },
  "language_info": {
   "codemirror_mode": {
    "name": "ipython",
    "version": 3
   },
   "file_extension": ".py",
   "mimetype": "text/x-python",
   "name": "python",
   "nbconvert_exporter": "python",
   "pygments_lexer": "ipython3",
   "version": "3.12.7"
  }
 },
 "nbformat": 4,
 "nbformat_minor": 5
}
